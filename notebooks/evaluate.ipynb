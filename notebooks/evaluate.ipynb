{
 "cells": [
  {
   "cell_type": "code",
   "execution_count": 1,
   "metadata": {
    "collapsed": false
   },
   "outputs": [
    {
     "name": "stderr",
     "output_type": "stream",
     "text": [
      "Using TensorFlow backend.\n"
     ]
    }
   ],
   "source": [
    "from os import chdir\n",
    "chdir('../')\n",
    "\n",
    "from helpers import filereader, text\n",
    "from keras.models import load_model\n",
    "import numpy as np\n",
    "import random\n",
    "import pandas as pd\n",
    "\n",
    "%matplotlib inline"
   ]
  },
  {
   "cell_type": "code",
   "execution_count": 2,
   "metadata": {
    "collapsed": true
   },
   "outputs": [],
   "source": [
    "# Get dictionary words\n",
    "# Load in all words\n",
    "words = filereader.get_unix_dict() + filereader.get_scrabble_dict()\n",
    "words = [w.lower() for w in words]\n",
    "words = [text.romanify(w) for w in words]\n",
    "words = list(set(words))\n",
    "vectors = [text.vectorise(w) for w in words]\n",
    "random.shuffle(vectors)\n",
    "vectors = np.asarray(vectors)\n",
    "\n",
    "# Generate four-letter combinations\n",
    "fakewords = [text.random_word() for _ in range(15000)]\n",
    "\n",
    "# Make sure fake words are not real words\n",
    "fakewords = [w for w in fakewords if w not in words]\n",
    "fakewords = fakewords[:5000]\n",
    "fake_vectors = [text.vectorise(w) for w in fakewords]\n",
    "fake_vectors = np.asarray(fake_vectors)"
   ]
  },
  {
   "cell_type": "code",
   "execution_count": 3,
   "metadata": {
    "collapsed": true
   },
   "outputs": [],
   "source": [
    "model = load_model('./models/flw_auto.h5')"
   ]
  },
  {
   "cell_type": "code",
   "execution_count": null,
   "metadata": {
    "collapsed": false
   },
   "outputs": [],
   "source": [
    "word_scores = {}\n",
    "\n",
    "fakeword_scores = {}\n",
    "\n",
    "for w in words:\n",
    "    word_vector = np.asarray([text.vectorise(w)])\n",
    "    word_scores[w] = model.evaluate(word_vector, word_vector, 1)\n",
    "    \n",
    "for f in fakewords:\n",
    "    word_vector = np.asarray([text.vectorise(w)])\n",
    "    fakeword_scores[f] = model.evaluate(word_vector, word_vector, 1)"
   ]
  },
  {
   "cell_type": "code",
   "execution_count": null,
   "metadata": {
    "collapsed": true
   },
   "outputs": [],
   "source": []
  }
 ],
 "metadata": {
  "anaconda-cloud": {},
  "kernelspec": {
   "display_name": "Python [conda env:stats]",
   "language": "python",
   "name": "conda-env-stats-py"
  },
  "language_info": {
   "codemirror_mode": {
    "name": "ipython",
    "version": 3
   },
   "file_extension": ".py",
   "mimetype": "text/x-python",
   "name": "python",
   "nbconvert_exporter": "python",
   "pygments_lexer": "ipython3",
   "version": "3.5.2"
  }
 },
 "nbformat": 4,
 "nbformat_minor": 2
}
